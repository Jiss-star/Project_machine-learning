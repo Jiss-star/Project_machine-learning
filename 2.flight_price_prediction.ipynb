{
 "cells": [
  {
   "cell_type": "code",
   "execution_count": null,
   "id": "5da8da6e-f064-4cf2-a00c-66e91ec995e3",
   "metadata": {},
   "outputs": [],
   "source": [
    "import numpy as np\n",
    "import pandas as pd\n",
    "import matplotlib.pyplot as plt\n",
    "import seaborn as sns\n",
    "from sklearn.model_selection import train_test_split\n",
    "from sklearn.preprocessing import LabelEncoder\n",
    "from sklearn.linear_model import LinearRegression,Ridge,Lasso\n",
    "from sklearn.svm import SVR\n",
    "from sklearn.tree import DecisionTreeRegressor\n"
   ]
  },
  {
   "cell_type": "code",
   "execution_count": null,
   "id": "9c98bec6-9874-41fb-bbe2-2d9d5f70cda3",
   "metadata": {},
   "outputs": [],
   "source": [
    "df=pd.read_csv('Clean_Dataset.csv')"
   ]
  },
  {
   "cell_type": "code",
   "execution_count": null,
   "id": "4191f46e-696c-4d3b-8972-a6558b11c215",
   "metadata": {},
   "outputs": [],
   "source": [
    "df.head()"
   ]
  },
  {
   "cell_type": "code",
   "execution_count": null,
   "id": "a7634870-4d2c-4517-bb3d-61447a6955e2",
   "metadata": {},
   "outputs": [],
   "source": [
    "df.tail()"
   ]
  },
  {
   "cell_type": "code",
   "execution_count": null,
   "id": "ab7f7289-9be5-48b6-b4bd-ce65c4ac3bec",
   "metadata": {},
   "outputs": [],
   "source": [
    "df.isnull().sum()"
   ]
  },
  {
   "cell_type": "markdown",
   "id": "7d8757c2-d6c8-47b5-93cd-f1d99c54caf1",
   "metadata": {},
   "source": [
    "# Data Cleaning"
   ]
  },
  {
   "cell_type": "code",
   "execution_count": null,
   "id": "ba53e65a-4263-41ce-b6ae-e0a1a9f616c6",
   "metadata": {},
   "outputs": [],
   "source": [
    "df.drop(columns='Unnamed: 0',axis=1,inplace=True)#['']"
   ]
  },
  {
   "cell_type": "code",
   "execution_count": null,
   "id": "e3f444a6-3b46-4ff6-ad11-699660a66ee3",
   "metadata": {},
   "outputs": [],
   "source": [
    "df.head()"
   ]
  },
  {
   "cell_type": "code",
   "execution_count": null,
   "id": "87f6516b-fe79-43e5-b212-1f6f01fa5bb6",
   "metadata": {},
   "outputs": [],
   "source": [
    "df.info()"
   ]
  },
  {
   "cell_type": "code",
   "execution_count": null,
   "id": "3137f0af-b3f2-45e2-9268-1d8aa51a9fdb",
   "metadata": {},
   "outputs": [],
   "source": [
    "count=df.airline.value_counts()"
   ]
  },
  {
   "cell_type": "code",
   "execution_count": null,
   "id": "86eaf92d-d0ba-4d15-849b-0af5016b3fc7",
   "metadata": {},
   "outputs": [],
   "source": [
    "df.airline.unique()"
   ]
  },
  {
   "cell_type": "code",
   "execution_count": null,
   "id": "1c01ec81-d91e-49e4-8be3-28fdbea8be70",
   "metadata": {},
   "outputs": [],
   "source": [
    "count"
   ]
  },
  {
   "cell_type": "code",
   "execution_count": null,
   "id": "6c7e5ab5-e862-49df-b6b4-83ed50eb398d",
   "metadata": {},
   "outputs": [],
   "source": [
    "percentage=df.airline.value_counts(normalize=True)*100#If True then the object returned will contain the relative\n",
    "    #frequencies of the unique values.frequncy/total"
   ]
  },
  {
   "cell_type": "code",
   "execution_count": null,
   "id": "89cf0dfc-8cd4-4786-8eaa-409fa90a3f4c",
   "metadata": {},
   "outputs": [],
   "source": [
    "percentage"
   ]
  },
  {
   "cell_type": "code",
   "execution_count": null,
   "id": "ac15d357-531d-4c5b-b0ad-94ab33c0f4b0",
   "metadata": {},
   "outputs": [],
   "source": [
    "freq_table=pd.DataFrame({'Frequency':count,'percent':percentage})"
   ]
  },
  {
   "cell_type": "code",
   "execution_count": null,
   "id": "44b02c6e-1298-4313-9aee-256536cf3453",
   "metadata": {},
   "outputs": [],
   "source": [
    "freq_table"
   ]
  },
  {
   "cell_type": "code",
   "execution_count": null,
   "id": "f43bd231-95a0-4f54-b7d4-b3842b5d0f80",
   "metadata": {},
   "outputs": [],
   "source": [
    "plt.figure(figsize=(10,6))\n",
    "ax=sns.barplot(x=freq_table.index, y=\"Frequency\", data=freq_table, palette=\"viridis\")\n",
    "plt.xticks(rotation=45, ha='right', fontsize=12)\n",
    "\n",
    "plt.xlabel(\"Airline\", fontsize=14)\n",
    "\n",
    "plt.ylabel(\"Frequency\", fontsize=14)\n",
    "\n",
    "plt.title(\"Airline\", fontsize=16)\n",
    "\n",
    "plt.tight_layout()\n",
    "\n",
    "plt.show()"
   ]
  },
  {
   "cell_type": "code",
   "execution_count": null,
   "id": "71a71f8b-9cdd-4d7a-87eb-e272162c24cd",
   "metadata": {},
   "outputs": [],
   "source": [
    "sns.countplot(df['airline'])"
   ]
  },
  {
   "cell_type": "code",
   "execution_count": null,
   "id": "93e2dd5b-e23e-498e-9842-ede6de2aa3f2",
   "metadata": {},
   "outputs": [],
   "source": [
    "df4=df.groupby('airline')['price'].count().sort_values(ascending=False)"
   ]
  },
  {
   "cell_type": "code",
   "execution_count": null,
   "id": "2a59ade3-73dc-4b75-89f7-de6b8ac6d4f0",
   "metadata": {},
   "outputs": [],
   "source": [
    "df4"
   ]
  },
  {
   "cell_type": "code",
   "execution_count": null,
   "id": "d9d75c97-b184-49a9-b3e2-8a89f002b771",
   "metadata": {},
   "outputs": [],
   "source": [
    "plt.figure(figsize=(10,6))\n",
    "ax=sns.barplot(x=df4.index, y=df4.values, palette=\"viridis\")\n",
    "plt.xticks(rotation=45, ha='right', fontsize=12)\n",
    "plt.xlabel(\"Airline\", fontsize=14)\n",
    "plt.ylabel(\"Frequency\", fontsize=14)\n",
    "plt.title(\"Airline\", fontsize=16)\n",
    "plt.tight_layout()\n",
    "plt.show()"
   ]
  },
  {
   "cell_type": "markdown",
   "id": "743c8039-25a2-419f-8c71-49fd34bf0f81",
   "metadata": {},
   "source": [
    "### vistara plane is most used and spicejet is less used"
   ]
  },
  {
   "cell_type": "code",
   "execution_count": null,
   "id": "d9a1c58e-2a69-4d7d-a540-5409d3919819",
   "metadata": {},
   "outputs": [],
   "source": [
    "count_2=df['source_city'].value_counts()"
   ]
  },
  {
   "cell_type": "code",
   "execution_count": null,
   "id": "9970f0d3-b101-43e0-afae-cf48bc100bf8",
   "metadata": {},
   "outputs": [],
   "source": [
    "sns.barplot(y=count_2.index,x=count_2,palette='viridis')\n",
    "\n",
    "plt.title('Source City',fontsize=18,fontweight='600')\n",
    "\n",
    "plt.xlabel('Count',fontsize=18)\n",
    "\n",
    "plt.ylabel('City',fontsize=18)\n",
    "\n",
    "plt.show()"
   ]
  },
  {
   "cell_type": "markdown",
   "id": "90026f9a-e204-4a77-a370-d2b7095d33c3",
   "metadata": {},
   "source": [
    "### Delhi is the main source city.chennai is less used "
   ]
  },
  {
   "cell_type": "code",
   "execution_count": null,
   "id": "52f7d875-9ea5-4093-950b-31208c376a28",
   "metadata": {},
   "outputs": [],
   "source": [
    "counts = df['departure_time'].value_counts()\n",
    "sns.barplot(x=counts.index,y=counts,palette='viridis')"
   ]
  },
  {
   "cell_type": "markdown",
   "id": "75d5361d-10de-4a5b-928f-449ca0c86f1c",
   "metadata": {},
   "source": [
    "### Main Departure Time is Morning.most of the flight trip are in the morning"
   ]
  },
  {
   "cell_type": "code",
   "execution_count": null,
   "id": "2015e074-d4a0-4bc2-8cf8-4a3f639b75e9",
   "metadata": {},
   "outputs": [],
   "source": [
    "counts = df['arrival_time'].value_counts()\n",
    "\n",
    "sns.barplot(y=counts.index,x=counts,palette='viridis')\n",
    "\n",
    "plt.title('Arrival Time',fontsize=18,fontweight='600')\n",
    "\n",
    "plt.xlabel('Count',fontsize=18)\n",
    "\n",
    "plt.ylabel('Time',fontsize=18)\n",
    "\n",
    "plt.show()"
   ]
  },
  {
   "cell_type": "markdown",
   "id": "116e495b-534b-4b90-9147-2db6e216ba45",
   "metadata": {},
   "source": [
    "### Arrival Time is Night"
   ]
  },
  {
   "cell_type": "code",
   "execution_count": null,
   "id": "02365540-5216-4185-89ac-1169d7cdd65f",
   "metadata": {},
   "outputs": [],
   "source": [
    "counts = df['stops'].value_counts()\n",
    "counts"
   ]
  },
  {
   "cell_type": "code",
   "execution_count": null,
   "id": "bdf5a01d-8bf2-4d1b-96ae-61f82b74bb69",
   "metadata": {},
   "outputs": [],
   "source": [
    "plt.figure(figsize=(8,8))\n",
    "plt.pie(counts, labels=['One Stop','Zero Stops','Two Or More'], autopct='%1.1f%%',startangle=140,wedgeprops=dict(width=0.3))  \n",
    "plt.title('Stops',fontsize=18)\n",
    "plt.show()"
   ]
  },
  {
   "cell_type": "code",
   "execution_count": null,
   "id": "5f63b5d4-da33-44cc-bdcb-113fefdf7f25",
   "metadata": {},
   "outputs": [],
   "source": [
    "counts = df['arrival_time'].value_counts()\n",
    "\n",
    "sns.barplot(y=counts.index,x=counts,palette='viridis')\n",
    "\n",
    "plt.title('Arrival Time',fontsize=18,fontweight='600')\n",
    "\n",
    "plt.xlabel('Count',fontsize=18)\n",
    "\n",
    "plt.ylabel('Time',fontsize=18)\n",
    "\n",
    "plt.show()"
   ]
  },
  {
   "cell_type": "code",
   "execution_count": null,
   "id": "39b532b4-2638-466f-ad34-3ae8547b60d8",
   "metadata": {},
   "outputs": [],
   "source": [
    "counts = df['destination_city'].value_counts()\n",
    "\n",
    "sns.barplot(y=counts.index,x=counts,palette='viridis')\n",
    "\n",
    "plt.title('Destination',fontsize=18,fontweight='600')\n",
    "\n",
    "plt.xlabel('Count',fontsize=18)\n",
    "\n",
    "plt.ylabel('City',fontsize=18)\n",
    "\n",
    "plt.show()"
   ]
  },
  {
   "cell_type": "code",
   "execution_count": null,
   "id": "2e33d1a4-8443-4074-81cf-dd019df85444",
   "metadata": {},
   "outputs": [],
   "source": [
    "counts = df['class'].value_counts()\n",
    "\n",
    "sns.barplot(x=counts.index,y=counts,palette='viridis')\n",
    "\n",
    "plt.title('Destination',fontsize=18,fontweight='600')\n",
    "\n",
    "plt.ylabel('Count',fontsize=18)\n",
    "\n",
    "plt.xlabel('City',fontsize=18)\n",
    "\n",
    "plt.show()"
   ]
  },
  {
   "cell_type": "code",
   "execution_count": null,
   "id": "cc9ce5b8-9ca2-4e4a-b804-63518f9a5298",
   "metadata": {},
   "outputs": [],
   "source": [
    "df.duration.describe()"
   ]
  },
  {
   "cell_type": "code",
   "execution_count": null,
   "id": "8ece61a1-369b-4fd8-804c-e9ad2f0c276f",
   "metadata": {},
   "outputs": [],
   "source": [
    "plt.figure(figsize=(10, 6))\n",
    "sns.histplot(df['duration'],bins=30,kde=True)\n",
    "#A histogram shows the distribution of data by grouping values into bins (intervals) \n",
    "#and counting how many data points fall into each bin.\n",
    "#if you’re looking at durations of phone calls in minutes, a histogram would show how many calls \n",
    "#lasted 0–2 minutes, 2–4 minutes, 4–6 minutes, and so on.\n",
    "##########################################################################################\n",
    "# Bins are the intervals (or \"buckets\") into which the data is grouped.\n",
    "# Smaller bins give more detail but may look noisy.\n",
    "# Larger bins summarize the data more but may lose important patterns.\n",
    "##########################################################################################\n",
    "# KDE stands for Kernel Density Estimate. \n",
    "# It adds a smooth curve on top of the histogram to represent the probability density of the data.\n",
    "# overall shape of the data\n",
    "################################################################################################\n",
    "plt.title('Trip Duration')\n",
    "\n",
    "plt.xlabel('Hours')\n",
    "\n",
    "plt.ylabel('Count')\n",
    "\n",
    "plt.show()"
   ]
  },
  {
   "cell_type": "code",
   "execution_count": null,
   "id": "62b4ac45-d022-4ad7-98b2-fbc605076cd7",
   "metadata": {},
   "outputs": [],
   "source": [
    "df['days_left'].unique()"
   ]
  },
  {
   "cell_type": "code",
   "execution_count": null,
   "id": "badb280a-3020-4acc-b757-152a2d270d32",
   "metadata": {},
   "outputs": [],
   "source": [
    "df['days_left'].describe()\n",
    "#A KDE plot (Kernel Density Estimate plot) is a smooth curve that shows the probability density of a dataset.\n",
    "# It provides a visual representation of where the data points are \n",
    "# concentrated and is an alternative to a histogram for understanding the distribution of data."
   ]
  },
  {
   "cell_type": "code",
   "execution_count": null,
   "id": "4ae6da07-3251-46d9-b6b0-3cc6bc0ec253",
   "metadata": {},
   "outputs": [],
   "source": [
    "#Histograms can look blocky because they depend on the number of bins.\n",
    "#KDE smooths out the data, providing a continuous curve for better visualizing patterns or trends.\n",
    "#Kernel Function:\n",
    "\n",
    "#The kernel is a mathematical function (e.g., Gaussian, which looks like a bell curve).\n",
    "#It’s applied to each data point to create a small “bump” around it."
   ]
  },
  {
   "cell_type": "code",
   "execution_count": null,
   "id": "829b2fe6-e59a-4852-b7aa-d0d58aa5bfde",
   "metadata": {},
   "outputs": [],
   "source": [
    "plt.figure(figsize=(10,6))\n",
    "sns.kdeplot(df['days_left'],fill=True,color='skyblue',alpha=0.5)\n",
    "plt.title(\"Days Left for the Trip\")\n",
    "\n",
    "plt.xlabel(\"Days\")\n",
    "\n",
    "plt.ylabel(\"Density\")\n",
    "\n",
    "plt.show()"
   ]
  },
  {
   "cell_type": "markdown",
   "id": "4ed24006-7285-4c8a-9433-93eb115537b9",
   "metadata": {},
   "source": [
    "# BOXPLOT"
   ]
  },
  {
   "cell_type": "code",
   "execution_count": null,
   "id": "82a0e8a9-a3b8-4369-bf4c-3e854998e798",
   "metadata": {},
   "outputs": [],
   "source": [
    "sns.boxplot(df)"
   ]
  },
  {
   "cell_type": "code",
   "execution_count": null,
   "id": "893d5e99-07e1-44db-bbd0-53407c8b3e78",
   "metadata": {},
   "outputs": [],
   "source": []
  },
  {
   "cell_type": "code",
   "execution_count": null,
   "id": "bc083c03-f83a-422d-bb1d-ce96845373bd",
   "metadata": {},
   "outputs": [],
   "source": [
    "sns.boxplot(df.price)"
   ]
  },
  {
   "cell_type": "code",
   "execution_count": null,
   "id": "6eed42df-11bf-40e6-8978-10b1af5ac62b",
   "metadata": {},
   "outputs": [],
   "source": [
    "def removal_outlier(df,column):\n",
    "    sns.boxplot(df[column])\n",
    "    plt.title(f\"Orginal box plot{column}\")\n",
    "    plt.show()\n",
    "    Q1,Q3=np.percentile(df[column],[25,75],method='midpoint')\n",
    "    IQR=Q3-Q1\n",
    "    lower=Q1-1.5*IQR\n",
    "    upper=Q3+1.5*IQR\n",
    "    remove_outlier=df[(df[column]>=lower) & (df[column]<=upper)]\n",
    "    sns.boxplot(remove_outlier[column])\n",
    "    plt.title(f\"Orginal box plot{column}\")\n",
    "    plt.show()\n",
    "    df[column]=df[column].apply(lambda x:x if lower<=x<=upper else None)\n",
    "    \n",
    "\n",
    "no_outlier=removal_outlier(df,'price')\n",
    "\n",
    "# df['price']=df['price'].apply(lambda x:x if lower<=x<=upper else None)\n",
    "    "
   ]
  },
  {
   "cell_type": "code",
   "execution_count": null,
   "id": "5e30e4d7-a9c5-4515-a2c0-f5667fe7a852",
   "metadata": {},
   "outputs": [],
   "source": [
    "sns.boxplot(df['price'])"
   ]
  },
  {
   "cell_type": "markdown",
   "id": "16b364bb-663d-4f09-bc6f-ca1242ecf9a4",
   "metadata": {},
   "source": [
    "#iqr=q3-q1\n",
    "Q1,Q3=np.percentile(df['price'],[25,75],method='midpoint')\n",
    "Q1\n",
    "IQR=Q3-Q1\n",
    "ower=Q1-1.5IQR \n",
    "upper=Q3+1.5IQR\n",
    "upper_array=np.array(df['price']>=upper) \n",
    "lower_array=np.array(df['price']<=lower)\n",
    "df['price']=df['price'].apply(lambda x:x if lower<=x<=upper else None)"
   ]
  },
  {
   "cell_type": "markdown",
   "id": "e736f559-a740-4c15-a2bb-57163c923a78",
   "metadata": {},
   "source": [
    "# Data Preprocessing¶"
   ]
  },
  {
   "cell_type": "code",
   "execution_count": null,
   "id": "2dde9def-b898-493c-9441-401d6fc7f5f0",
   "metadata": {},
   "outputs": [],
   "source": [
    "df.head()"
   ]
  },
  {
   "cell_type": "code",
   "execution_count": null,
   "id": "f4f9e82d-1a44-483e-8d57-55eb583b428d",
   "metadata": {},
   "outputs": [],
   "source": [
    "df.drop('flight',axis=1,inplace=True)"
   ]
  },
  {
   "cell_type": "markdown",
   "id": "9417add6-3d64-441e-9361-e00dfb310979",
   "metadata": {},
   "source": [
    "# Enocoding"
   ]
  },
  {
   "cell_type": "code",
   "execution_count": null,
   "id": "195ae27b-6116-4b78-afe4-9675268d430a",
   "metadata": {},
   "outputs": [],
   "source": [
    "num_fea=[fea for fea in df.columns if df[fea].dtypes!='object']"
   ]
  },
  {
   "cell_type": "code",
   "execution_count": null,
   "id": "991e252f-90aa-4b11-bafa-edcfc0fe0832",
   "metadata": {},
   "outputs": [],
   "source": [
    "df[num_fea]"
   ]
  },
  {
   "cell_type": "markdown",
   "id": "e50f99d1-186f-439e-a383-5b6708ff3a0d",
   "metadata": {},
   "source": [
    "lab=LabelEncoder()\n",
    "for col in cat_fea:\n",
    "    df[col]=lab.fit_transform(df[col])"
   ]
  },
  {
   "cell_type": "code",
   "execution_count": null,
   "id": "3cc3a1f2-8287-4af0-ad1e-b000e951e429",
   "metadata": {},
   "outputs": [],
   "source": [
    "\n",
    "correlation_matrix=df[num_fea].corr()\n",
    "plt.figure(figsize=(10,8))\n",
    "sns.heatmap(correlation_matrix,annot =True,cmap='coolwarm',fmt='.2f',linewidths=0.5)\n",
    "plt.title('Correlation')\n",
    "plt.show()"
   ]
  },
  {
   "cell_type": "code",
   "execution_count": null,
   "id": "20634d5f-fff9-48ca-b5ee-4c4cba69908d",
   "metadata": {},
   "outputs": [],
   "source": [
    "# find the relation table- hypothesis"
   ]
  },
  {
   "cell_type": "code",
   "execution_count": null,
   "id": "55b22abe-5e61-4e7c-b441-03ca00ecb0dd",
   "metadata": {},
   "outputs": [],
   "source": [
    "cat_fea=[fea for fea in df.columns if df[fea].dtypes=='object']"
   ]
  },
  {
   "cell_type": "markdown",
   "id": "ff8df2f0-02db-4c74-a148-dd303eaf8c7c",
   "metadata": {},
   "source": [
    "for c1 in cat_fea:\n",
    "    for c2 in cat_fea:\n",
    "        dataset_table=pd.crosstab(df[c1],df[c2])\n",
    "        observed_values=dataset_table.values\n",
    "        print(\"observed values:\\n\",observed_values)\n",
    "    \n",
    "    no_of_rows=len(dataset_table.iloc[0:2,0])\n",
    "    no_of_column=len(dataset_table.iloc[0,0:2])\n",
    "    ddof=(no_of_rows-1)*(no_of_column-1)\n",
    "    print(\"Degree of freedom:-\",ddof)\n",
    "    alpha=0.05\n",
    "    from scipy.stats import chi2\n",
    "    critical_value=chi2.ppf(q=1-alpha,df=ddof) # 95% confidence, 1 degrees of freedom\n",
    "    print(\"critical_value:\",critical_value)\n",
    "    val=stats.chi2_contingency(dataset_table)\n",
    "    from scipy.stats import chi2#chi sqaure statistics\n",
    "    chi2_sqr=sum([(o-e)**2/e for o,e in zip(observed_values,Expected_values)])\n",
    "    chi_sqr_statistic=chi2_sqr[0]+chi2_sqr[1]\n",
    "    chi_sqr_statistic\n",
    "    p_value=1-chi2.cdf(x=chi_sqr_statistic,df=ddof)\n",
    "    print('pvalue:',p_value)\n",
    "    print(\"significant level:\",alpha)\n",
    "    print(\"degree of freedom:\",ddof)"
   ]
  },
  {
   "cell_type": "code",
   "execution_count": null,
   "id": "6916e00f-b8fe-4313-9b67-64e6d76ccd3e",
   "metadata": {},
   "outputs": [],
   "source": [
    "lab=LabelEncoder() \n",
    "for col in cat_fea: \n",
    "    df[col]=lab.fit_transform(df[col])"
   ]
  },
  {
   "cell_type": "code",
   "execution_count": null,
   "id": "1774d3ef-bcf3-4976-bbf8-375e6cc44118",
   "metadata": {},
   "outputs": [],
   "source": [
    "\n",
    "correlation_matrix=df.corr()\n",
    "plt.figure(figsize=(10,8))\n",
    "sns.heatmap(correlation_matrix,annot =True,cmap='coolwarm',fmt='.2f',linewidths=0.5)\n",
    "plt.title('Correlation')\n",
    "plt.show()"
   ]
  },
  {
   "cell_type": "code",
   "execution_count": null,
   "id": "2a859d2b-afb0-4aed-b492-6a366aa0a383",
   "metadata": {},
   "outputs": [],
   "source": [
    "df.isnull().sum()"
   ]
  },
  {
   "cell_type": "markdown",
   "id": "ac7392f2-5299-416c-8689-99af3d610ac6",
   "metadata": {},
   "source": [
    "# Feature and target"
   ]
  },
  {
   "cell_type": "code",
   "execution_count": null,
   "id": "dd6b166a-f189-4086-9335-cc73edff6c07",
   "metadata": {},
   "outputs": [],
   "source": [
    "X = df.drop(columns='price')\n",
    "\n",
    "y = df['price'] "
   ]
  },
  {
   "cell_type": "code",
   "execution_count": null,
   "id": "307bf772-8209-4272-80ce-45353739d7e7",
   "metadata": {},
   "outputs": [],
   "source": [
    "y"
   ]
  },
  {
   "cell_type": "code",
   "execution_count": null,
   "id": "92fba8e2-476b-4cba-b0e5-92f7171a1a43",
   "metadata": {},
   "outputs": [],
   "source": [
    "y.isnull().sum()"
   ]
  },
  {
   "cell_type": "code",
   "execution_count": null,
   "id": "fde8535d-d719-4724-91fd-40d4d5969efa",
   "metadata": {},
   "outputs": [],
   "source": [
    "y=y.fillna(y.mean())"
   ]
  },
  {
   "cell_type": "code",
   "execution_count": null,
   "id": "487dce65-ae50-426e-947e-f0b128cf5ab0",
   "metadata": {},
   "outputs": [],
   "source": [
    "y.isnull().sum()"
   ]
  },
  {
   "cell_type": "code",
   "execution_count": null,
   "id": "f0c332ba-894c-4e1e-9a65-0cf2e33e8fc4",
   "metadata": {},
   "outputs": [],
   "source": [
    "X_train, X_test, y_train, y_test = train_test_split(X, y, test_size=0.2, shuffle=True,random_state=42)"
   ]
  },
  {
   "cell_type": "code",
   "execution_count": null,
   "id": "8744b792-b4b7-4148-9607-4ae410a554ee",
   "metadata": {},
   "outputs": [],
   "source": [
    "model_1=LinearRegression()\n",
    "model_1.fit(X_train,y_train)\n",
    "y_pred=model_1.predict(X_test)"
   ]
  },
  {
   "cell_type": "code",
   "execution_count": null,
   "id": "7ea3d93c-17c2-44da-aeaf-ab079368ec2e",
   "metadata": {},
   "outputs": [],
   "source": [
    "X_train.shape[0]"
   ]
  },
  {
   "cell_type": "code",
   "execution_count": null,
   "id": "1696a193-ca8f-4fc9-917c-7f6034036547",
   "metadata": {},
   "outputs": [],
   "source": [
    "from sklearn.linear_model import Ridge\n",
    "from sklearn.model_selection import GridSearchCV\n",
    "\n",
    "# Define parameter grid\n",
    "param_grid = {'alpha': [0.01, 0.1, 1, 10, 100]}\n",
    "\n",
    "# Define model\n",
    "model = Ridge()\n",
    "\n",
    "# Define GridSearchCV with a regression-appropriate scoring metric\n",
    "grid_search = GridSearchCV(model, param_grid, cv=10, scoring='neg_mean_squared_error')\n",
    "\n",
    "# Fit the grid search on your data\n",
    "grid_search.fit(X_train, y_train)\n",
    "\n",
    "# Access the best parameters\n",
    "print(\"Best parameters:\", grid_search.best_params_)\n"
   ]
  },
  {
   "cell_type": "code",
   "execution_count": null,
   "id": "961d374e-1cea-43ae-83a6-486e834d3c28",
   "metadata": {},
   "outputs": [],
   "source": [
    "from sklearn.neighbors import KNeighborsRegressor\n",
    "from sklearn.model_selection import GridSearchCV\n",
    "\n",
    "param_grid = {\n",
    "    'n_neighbors': [3, 5, 10, 20],\n",
    "    'weights': ['uniform', 'distance'],\n",
    "    'p': [1, 2],#p: Power parameter for Minkowski distance (e.g., 1 for Manhattan, 2 for Euclidean).\n",
    "    'algorithm': ['auto', 'ball_tree', 'kd_tree', 'brute']#algorithm: Algorithm to compute nearest neighbors (['auto', 'ball_tree', 'kd_tree', 'brute']).\n",
    "}\n",
    "\n",
    "grid_search = GridSearchCV(estimator=KNeighborsRegressor(), param_grid=param_grid, cv=10, scoring='accuracy')\n",
    "grid_search.fit(X_train, y_train)\n",
    "\n",
    "# Best Parameters\n",
    "print(\"Best parameters:\", grid_search.best_params_)\n"
   ]
  },
  {
   "cell_type": "code",
   "execution_count": null,
   "id": "b3bdad41-5b96-4f68-a4b0-6359e44c2df4",
   "metadata": {},
   "outputs": [],
   "source": [
    "from sklearn.tree import DecisionTreeRegressor\n",
    "from sklearn.model_selection import GridSearchCV\n",
    "\n",
    "param_grid = {\n",
    "    'max_depth': [3, 5, 10, None],\n",
    "    'min_samples_split': [2, 5, 10],\n",
    "    'min_samples_leaf': [1, 2, 4],\n",
    "    'max_features': ['auto', 'sqrt', 'log2', None],\n",
    "    'criterion': ['squared_error', 'absolute_error']\n",
    "}\n",
    "\n",
    "grid_search = GridSearchCV(estimator=DecisionTreeRegressor(), param_grid=param_grid, cv=10, scoring='accuracy_score')\n",
    "grid_search.fit(X_train, y_train)\n",
    "\n",
    "# Best Parameters\n",
    "print(\"Best parameters:\", grid_search.best_params_)\n"
   ]
  },
  {
   "cell_type": "markdown",
   "id": "99b29045-c71c-4fc5-b1cf-801e589b2016",
   "metadata": {},
   "source": [
    "C (Regularization parameter): Controls the trade-off between achieving a low error on the training data and minimizing model complexity.\n",
    "\n",
    "Typical values: [0.1, 1, 10, 100, 1000]\n",
    "epsilon: Defines a margin of tolerance where predictions are considered acceptable without penalty.\n",
    "\n",
    "Typical values: [0.01, 0.1, 0.5, 1]\n",
    "kernel: Specifies the type of kernel function to use.\n",
    "\n",
    "Options: ['linear', 'poly', 'rbf', 'sigmoid']\n",
    "degree: Degree of the polynomial kernel function (only applicable for poly kernel).\n",
    "\n",
    "Typical values: [2, 3, 4]\n",
    "gamma: Defines the influence of a single training example.\n",
    "\n",
    "Options: ['scale', 'auto'] or specific values like [0.1, 0.01, 0.001] (used with rbf, poly, sigmoid kernels)."
   ]
  },
  {
   "cell_type": "code",
   "execution_count": null,
   "id": "58d45887-6c25-4db2-a6c2-8041635f1395",
   "metadata": {},
   "outputs": [],
   "source": [
    "from sklearn.model_selection import GridSearchCV\n",
    "from sklearn.svm import SVR\n",
    "\n",
    "svr = SVR()\n",
    "\n",
    "param_grid = {\n",
    "    'C': [0.1, 1, 10, 100],\n",
    "    'epsilon': [0.01, 0.1, 0.5],\n",
    "    'kernel': ['linear', 'poly', 'rbf'],\n",
    "    'gamma': ['scale', 'auto']\n",
    "    #'degree': [2, 3, 4]  # Used only for 'poly'\n",
    "}\n",
    "\n",
    "grid_search = GridSearchCV(estimator=svr, param_grid=param_grid,  scoring='accuracy', cv=10)\n",
    "grid_search.fit(X_train, y_train)\n",
    "\n",
    "print(\"Best parameters:\", grid_search.best_params_)\n"
   ]
  },
  {
   "cell_type": "markdown",
   "id": "edfdaf87-27fb-4618-9b83-7abf7a85f305",
   "metadata": {},
   "source": [
    "models = {\n",
    "    'Ridge Regression': Ridge(),\n",
    "\n",
    "    'Lasso Regression': Lasso(),\n",
    "\n",
    "    'DecisionTreeRegressor': DecisionTreeRegressor(),\n",
    "\n",
    "    'SVR': SVR(kernel),\n",
    "}"
   ]
  },
  {
   "cell_type": "code",
   "execution_count": null,
   "id": "0e3b598f-0eb0-45a7-9acc-ef13a944abc8",
   "metadata": {},
   "outputs": [],
   "source": [
    "from sklearn.metrics import mean_squared_error\n",
    "models = {\n",
    "\n",
    "    'Linear Regression': LinearRegression(),\n",
    "\n",
    "    'Ridge Regression': Ridge(alpha=1.0),\n",
    "\n",
    "    'Lasso Regression': Lasso(alpha=0.1),\n",
    "\n",
    "    'Random Forest Regressor': RandomForestRegressor(n_estimators=100, random_state=42),\n",
    "\n",
    "    'SVR': SVR(kernel='rbf'),\n",
    "}\n",
    "\n",
    "\n",
    "\n",
    "results = []\n",
    "\n",
    "\n",
    "\n",
    "for model_name, model in models.items():\n",
    "\n",
    "    model.fit(X_train, y_train)\n",
    "\n",
    "\n",
    "\n",
    "    train_score = model.score(X_train, y_train)  \n",
    "\n",
    "    test_score = model.score(X_test, y_test)  \n",
    "\n",
    "    \n",
    "\n",
    "    y_pred = model.predict(X_test)\n",
    "\n",
    "    mse = mean_squared_error(y_test, y_pred)\n",
    "\n",
    "    \n",
    "\n",
    "    results.append({\n",
    "\n",
    "        'Model': model_name,\n",
    "\n",
    "        'Train R² Score': train_score,\n",
    "\n",
    "        'Test R² Score': test_score,\n",
    "\n",
    "        'Mean Squared Error': mse\n",
    "\n",
    "    })\n",
    "\n",
    "\n",
    "\n",
    "results_df = pd.DataFrame(results)\n",
    "\n",
    "\n",
    "\n",
    "print(results_df)"
   ]
  },
  {
   "cell_type": "code",
   "execution_count": null,
   "id": "78f1f810-e6a4-46a7-ad3e-37a6159d3fa0",
   "metadata": {},
   "outputs": [],
   "source": []
  },
  {
   "cell_type": "code",
   "execution_count": null,
   "id": "fe92e322-8b6b-4237-b60b-fe4eafd5f759",
   "metadata": {},
   "outputs": [],
   "source": []
  }
 ],
 "metadata": {
  "kernelspec": {
   "display_name": "Python 3 (ipykernel)",
   "language": "python",
   "name": "python3"
  },
  "language_info": {
   "codemirror_mode": {
    "name": "ipython",
    "version": 3
   },
   "file_extension": ".py",
   "mimetype": "text/x-python",
   "name": "python",
   "nbconvert_exporter": "python",
   "pygments_lexer": "ipython3",
   "version": "3.12.4"
  }
 },
 "nbformat": 4,
 "nbformat_minor": 5
}
